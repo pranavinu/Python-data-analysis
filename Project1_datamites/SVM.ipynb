{
 "cells": [
  {
   "cell_type": "code",
   "execution_count": 3,
   "metadata": {},
   "outputs": [],
   "source": [
    "import pandas as pd\n",
    "import numpy as np\n",
    "from sklearn import svm\n",
    "from sklearn.model_selection import train_test_split\n",
    "from sklearn.metrics import classification_report"
   ]
  },
  {
   "cell_type": "code",
   "execution_count": 4,
   "metadata": {},
   "outputs": [
    {
     "data": {
      "text/html": [
       "<div>\n",
       "<style scoped>\n",
       "    .dataframe tbody tr th:only-of-type {\n",
       "        vertical-align: middle;\n",
       "    }\n",
       "\n",
       "    .dataframe tbody tr th {\n",
       "        vertical-align: top;\n",
       "    }\n",
       "\n",
       "    .dataframe thead th {\n",
       "        text-align: right;\n",
       "    }\n",
       "</style>\n",
       "<table border=\"1\" class=\"dataframe\">\n",
       "  <thead>\n",
       "    <tr style=\"text-align: right;\">\n",
       "      <th></th>\n",
       "      <th>State</th>\n",
       "      <th>Account_Length</th>\n",
       "      <th>Area_Code</th>\n",
       "      <th>Phone</th>\n",
       "      <th>International_Plan</th>\n",
       "      <th>VMail_Plan</th>\n",
       "      <th>VMail_Message</th>\n",
       "      <th>Day_Mins</th>\n",
       "      <th>Day_Calls</th>\n",
       "      <th>Day_Charge</th>\n",
       "      <th>...</th>\n",
       "      <th>Eve_Calls</th>\n",
       "      <th>Eve_Charge</th>\n",
       "      <th>Night_Mins</th>\n",
       "      <th>Night_Calls</th>\n",
       "      <th>Night_Charge</th>\n",
       "      <th>International_Mins</th>\n",
       "      <th>International_Calls</th>\n",
       "      <th>International_Charge</th>\n",
       "      <th>CustServ_calls</th>\n",
       "      <th>Churn</th>\n",
       "    </tr>\n",
       "  </thead>\n",
       "  <tbody>\n",
       "    <tr>\n",
       "      <th>0</th>\n",
       "      <td>KS</td>\n",
       "      <td>128</td>\n",
       "      <td>415</td>\n",
       "      <td>382-4657</td>\n",
       "      <td>no</td>\n",
       "      <td>yes</td>\n",
       "      <td>25</td>\n",
       "      <td>265.1</td>\n",
       "      <td>110</td>\n",
       "      <td>45.07</td>\n",
       "      <td>...</td>\n",
       "      <td>99</td>\n",
       "      <td>16.78</td>\n",
       "      <td>244.7</td>\n",
       "      <td>91</td>\n",
       "      <td>11.01</td>\n",
       "      <td>10.0</td>\n",
       "      <td>3</td>\n",
       "      <td>2.70</td>\n",
       "      <td>1</td>\n",
       "      <td>False.</td>\n",
       "    </tr>\n",
       "    <tr>\n",
       "      <th>1</th>\n",
       "      <td>OH</td>\n",
       "      <td>107</td>\n",
       "      <td>415</td>\n",
       "      <td>371-7191</td>\n",
       "      <td>no</td>\n",
       "      <td>yes</td>\n",
       "      <td>26</td>\n",
       "      <td>161.6</td>\n",
       "      <td>123</td>\n",
       "      <td>27.47</td>\n",
       "      <td>...</td>\n",
       "      <td>103</td>\n",
       "      <td>16.62</td>\n",
       "      <td>254.4</td>\n",
       "      <td>103</td>\n",
       "      <td>11.45</td>\n",
       "      <td>13.7</td>\n",
       "      <td>3</td>\n",
       "      <td>3.70</td>\n",
       "      <td>1</td>\n",
       "      <td>False.</td>\n",
       "    </tr>\n",
       "    <tr>\n",
       "      <th>2</th>\n",
       "      <td>NJ</td>\n",
       "      <td>137</td>\n",
       "      <td>415</td>\n",
       "      <td>358-1921</td>\n",
       "      <td>no</td>\n",
       "      <td>no</td>\n",
       "      <td>0</td>\n",
       "      <td>243.4</td>\n",
       "      <td>114</td>\n",
       "      <td>41.38</td>\n",
       "      <td>...</td>\n",
       "      <td>110</td>\n",
       "      <td>10.30</td>\n",
       "      <td>162.6</td>\n",
       "      <td>104</td>\n",
       "      <td>7.32</td>\n",
       "      <td>12.2</td>\n",
       "      <td>5</td>\n",
       "      <td>3.29</td>\n",
       "      <td>0</td>\n",
       "      <td>False.</td>\n",
       "    </tr>\n",
       "    <tr>\n",
       "      <th>3</th>\n",
       "      <td>OH</td>\n",
       "      <td>84</td>\n",
       "      <td>408</td>\n",
       "      <td>375-9999</td>\n",
       "      <td>yes</td>\n",
       "      <td>no</td>\n",
       "      <td>0</td>\n",
       "      <td>299.4</td>\n",
       "      <td>71</td>\n",
       "      <td>50.90</td>\n",
       "      <td>...</td>\n",
       "      <td>88</td>\n",
       "      <td>5.26</td>\n",
       "      <td>196.9</td>\n",
       "      <td>89</td>\n",
       "      <td>8.86</td>\n",
       "      <td>6.6</td>\n",
       "      <td>7</td>\n",
       "      <td>1.78</td>\n",
       "      <td>2</td>\n",
       "      <td>False.</td>\n",
       "    </tr>\n",
       "    <tr>\n",
       "      <th>4</th>\n",
       "      <td>OK</td>\n",
       "      <td>75</td>\n",
       "      <td>415</td>\n",
       "      <td>330-6626</td>\n",
       "      <td>yes</td>\n",
       "      <td>no</td>\n",
       "      <td>0</td>\n",
       "      <td>166.7</td>\n",
       "      <td>113</td>\n",
       "      <td>28.34</td>\n",
       "      <td>...</td>\n",
       "      <td>122</td>\n",
       "      <td>12.61</td>\n",
       "      <td>186.9</td>\n",
       "      <td>121</td>\n",
       "      <td>8.41</td>\n",
       "      <td>10.1</td>\n",
       "      <td>3</td>\n",
       "      <td>2.73</td>\n",
       "      <td>3</td>\n",
       "      <td>False.</td>\n",
       "    </tr>\n",
       "  </tbody>\n",
       "</table>\n",
       "<p>5 rows × 21 columns</p>\n",
       "</div>"
      ],
      "text/plain": [
       "  State  Account_Length  Area_Code      Phone International_Plan VMail_Plan  \\\n",
       "0    KS             128        415   382-4657                 no        yes   \n",
       "1    OH             107        415   371-7191                 no        yes   \n",
       "2    NJ             137        415   358-1921                 no         no   \n",
       "3    OH              84        408   375-9999                yes         no   \n",
       "4    OK              75        415   330-6626                yes         no   \n",
       "\n",
       "   VMail_Message  Day_Mins  Day_Calls  Day_Charge   ...     Eve_Calls  \\\n",
       "0             25     265.1        110       45.07   ...            99   \n",
       "1             26     161.6        123       27.47   ...           103   \n",
       "2              0     243.4        114       41.38   ...           110   \n",
       "3              0     299.4         71       50.90   ...            88   \n",
       "4              0     166.7        113       28.34   ...           122   \n",
       "\n",
       "   Eve_Charge  Night_Mins  Night_Calls  Night_Charge  International_Mins  \\\n",
       "0       16.78       244.7           91         11.01                10.0   \n",
       "1       16.62       254.4          103         11.45                13.7   \n",
       "2       10.30       162.6          104          7.32                12.2   \n",
       "3        5.26       196.9           89          8.86                 6.6   \n",
       "4       12.61       186.9          121          8.41                10.1   \n",
       "\n",
       "   International_Calls  International_Charge  CustServ_calls    Churn  \n",
       "0                    3                  2.70               1   False.  \n",
       "1                    3                  3.70               1   False.  \n",
       "2                    5                  3.29               0   False.  \n",
       "3                    7                  1.78               2   False.  \n",
       "4                    3                  2.73               3   False.  \n",
       "\n",
       "[5 rows x 21 columns]"
      ]
     },
     "execution_count": 4,
     "metadata": {},
     "output_type": "execute_result"
    }
   ],
   "source": [
    "data = pd.read_csv(\"telecom_churn_data.csv\", header = None,names = [\"State\", \"Account_Length\", \"Area_Code\", \"Phone\",\"International_Plan\",\"VMail_Plan\", \"VMail_Message\",\"Day_Mins\",\"Day_Calls\",\"Day_Charge\",\"Eve_Mins\",\"Eve_Calls\",\"Eve_Charge\",\"Night_Mins\",\"Night_Calls\",\"Night_Charge\",\"International_Mins\",\"International_Calls\",\"International_Charge\",\"CustServ_calls\",\"Churn\"])\n",
    "data.head()"
   ]
  },
  {
   "cell_type": "code",
   "execution_count": 5,
   "metadata": {},
   "outputs": [
    {
     "name": "stderr",
     "output_type": "stream",
     "text": [
      "C:\\Users\\PranaviPadegal\\Anaconda3\\lib\\site-packages\\ipykernel_launcher.py:1: SettingWithCopyWarning: \n",
      "A value is trying to be set on a copy of a slice from a DataFrame\n",
      "\n",
      "See the caveats in the documentation: http://pandas.pydata.org/pandas-docs/stable/indexing.html#indexing-view-versus-copy\n",
      "  \"\"\"Entry point for launching an IPython kernel.\n",
      "C:\\Users\\PranaviPadegal\\Anaconda3\\lib\\site-packages\\ipykernel_launcher.py:2: SettingWithCopyWarning: \n",
      "A value is trying to be set on a copy of a slice from a DataFrame\n",
      "\n",
      "See the caveats in the documentation: http://pandas.pydata.org/pandas-docs/stable/indexing.html#indexing-view-versus-copy\n",
      "  \n",
      "C:\\Users\\PranaviPadegal\\Anaconda3\\lib\\site-packages\\ipykernel_launcher.py:3: SettingWithCopyWarning: \n",
      "A value is trying to be set on a copy of a slice from a DataFrame\n",
      "\n",
      "See the caveats in the documentation: http://pandas.pydata.org/pandas-docs/stable/indexing.html#indexing-view-versus-copy\n",
      "  This is separate from the ipykernel package so we can avoid doing imports until\n"
     ]
    }
   ],
   "source": [
    "data.Churn[data.Churn == ' True.'] = int(1)\n",
    "data.International_Plan[data.International_Plan == ' yes'] = int(1)\n",
    "data.VMail_Plan[data.VMail_Plan == ' yes'] = int(1)"
   ]
  },
  {
   "cell_type": "code",
   "execution_count": 6,
   "metadata": {},
   "outputs": [
    {
     "name": "stderr",
     "output_type": "stream",
     "text": [
      "C:\\Users\\PranaviPadegal\\Anaconda3\\lib\\site-packages\\ipykernel_launcher.py:1: SettingWithCopyWarning: \n",
      "A value is trying to be set on a copy of a slice from a DataFrame\n",
      "\n",
      "See the caveats in the documentation: http://pandas.pydata.org/pandas-docs/stable/indexing.html#indexing-view-versus-copy\n",
      "  \"\"\"Entry point for launching an IPython kernel.\n",
      "C:\\Users\\PranaviPadegal\\Anaconda3\\lib\\site-packages\\ipykernel_launcher.py:2: SettingWithCopyWarning: \n",
      "A value is trying to be set on a copy of a slice from a DataFrame\n",
      "\n",
      "See the caveats in the documentation: http://pandas.pydata.org/pandas-docs/stable/indexing.html#indexing-view-versus-copy\n",
      "  \n",
      "C:\\Users\\PranaviPadegal\\Anaconda3\\lib\\site-packages\\ipykernel_launcher.py:3: SettingWithCopyWarning: \n",
      "A value is trying to be set on a copy of a slice from a DataFrame\n",
      "\n",
      "See the caveats in the documentation: http://pandas.pydata.org/pandas-docs/stable/indexing.html#indexing-view-versus-copy\n",
      "  This is separate from the ipykernel package so we can avoid doing imports until\n"
     ]
    }
   ],
   "source": [
    "data.Churn[data.Churn == ' False.'] = int(0)\n",
    "data.International_Plan[data.International_Plan == ' no'] = int(0)\n",
    "data.VMail_Plan[data.VMail_Plan == ' no'] = int(0)"
   ]
  },
  {
   "cell_type": "code",
   "execution_count": 7,
   "metadata": {},
   "outputs": [
    {
     "data": {
      "text/plain": [
       "State                    object\n",
       "Account_Length            int64\n",
       "Area_Code                 int64\n",
       "Phone                    object\n",
       "International_Plan        int32\n",
       "VMail_Plan                int32\n",
       "VMail_Message             int64\n",
       "Day_Mins                float64\n",
       "Day_Calls                 int64\n",
       "Day_Charge              float64\n",
       "Eve_Mins                float64\n",
       "Eve_Calls                 int64\n",
       "Eve_Charge              float64\n",
       "Night_Mins              float64\n",
       "Night_Calls               int64\n",
       "Night_Charge            float64\n",
       "International_Mins      float64\n",
       "International_Calls       int64\n",
       "International_Charge    float64\n",
       "CustServ_calls            int64\n",
       "Churn                    object\n",
       "dtype: object"
      ]
     },
     "execution_count": 7,
     "metadata": {},
     "output_type": "execute_result"
    }
   ],
   "source": [
    "data.International_Plan = data.International_Plan.astype('int')\n",
    "data.VMail_Plan = data.VMail_Plan.astype('int')\n",
    "data.dtypes"
   ]
  },
  {
   "cell_type": "code",
   "execution_count": 8,
   "metadata": {},
   "outputs": [],
   "source": [
    "y = data.Churn.astype('int')\n",
    "x = data.loc[:,[\"Area_Code\",\"International_Plan\",\"VMail_Plan\", \"VMail_Message\",\"Day_Mins\",\"Day_Calls\",\"Day_Charge\",\"Eve_Mins\",\"Eve_Calls\",\"Eve_Charge\",\"Night_Mins\",\"Night_Calls\",\"Night_Charge\",\"International_Mins\",\"International_Calls\",\"International_Charge\",\"CustServ_calls\"]]\n",
    "C = 1.0"
   ]
  },
  {
   "cell_type": "code",
   "execution_count": 9,
   "metadata": {},
   "outputs": [],
   "source": [
    "x_train, x_test,y_train,y_test = train_test_split(x,y,test_size = 0.3,random_state = 10)"
   ]
  },
  {
   "cell_type": "markdown",
   "metadata": {},
   "source": [
    "### SVM_linear Kernel\n",
    "\n",
    "1. Out of \"1193+7\" not churn Values, \"1193\" are Predicted as not churn and \"7\" as churn.\n",
    "2. Out of \"172+14\" churn values. \"172\" are Predicted as churn and only \"14\" as churn which is not at all good.\n",
    "3. Althought 87% Accuracy, type 2 error is much more than the Logistic regression model."
   ]
  },
  {
   "cell_type": "code",
   "execution_count": 10,
   "metadata": {
    "scrolled": true
   },
   "outputs": [
    {
     "name": "stdout",
     "output_type": "stream",
     "text": [
      "[[1193    7]\n",
      " [ 172   14]]\n",
      "0.8708513708513709\n"
     ]
    }
   ],
   "source": [
    "from sklearn.metrics import accuracy_score\n",
    "from sklearn.metrics import confusion_matrix\n",
    "svc_linear = svm.SVC(kernel='linear',C=1)\n",
    "\n",
    "svc_linear.fit(x_train, y_train)\n",
    "predicted= svc_linear.predict(x_test)\n",
    "cnf_matrix = confusion_matrix(y_test, predicted)\n",
    "print(cnf_matrix)\n",
    "print(accuracy_score(y_test,predicted))"
   ]
  },
  {
   "cell_type": "markdown",
   "metadata": {},
   "source": [
    "### SVM_rbf kernel\n",
    "1. Here, each datapoint is classified as not churn irrespective of the actual value which is very bad."
   ]
  },
  {
   "cell_type": "code",
   "execution_count": 11,
   "metadata": {},
   "outputs": [
    {
     "name": "stdout",
     "output_type": "stream",
     "text": [
      "[[1200    0]\n",
      " [ 186    0]]\n",
      "0.8658008658008658\n"
     ]
    }
   ],
   "source": [
    "svc_rbf = svm.SVC(kernel='rbf', gamma=0.5, C=C).fit(x, y)\n",
    "svc_rbf.fit(x_train, y_train)\n",
    "predicted= svc_rbf.predict(x_test)\n",
    "cnf_matrix = confusion_matrix(y_test, predicted)\n",
    "print(cnf_matrix)\n",
    "print(accuracy_score(y_test,predicted))"
   ]
  }
 ],
 "metadata": {
  "kernelspec": {
   "display_name": "Python 3",
   "language": "python",
   "name": "python3"
  },
  "language_info": {
   "codemirror_mode": {
    "name": "ipython",
    "version": 3
   },
   "file_extension": ".py",
   "mimetype": "text/x-python",
   "name": "python",
   "nbconvert_exporter": "python",
   "pygments_lexer": "ipython3",
   "version": "3.6.5"
  }
 },
 "nbformat": 4,
 "nbformat_minor": 2
}
