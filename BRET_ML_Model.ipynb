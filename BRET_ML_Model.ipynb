{
 "cells": [
  {
   "cell_type": "code",
   "execution_count": 15,
   "metadata": {},
   "outputs": [],
   "source": [
    "import pandas as pd\n",
    "from collections import Counter\n",
    "from sklearn.preprocessing import LabelEncoder\n",
    "from sklearn.preprocessing import OneHotEncoder\n",
    "import numpy as np\n",
    "import re\n",
    "from sklearn.model_selection import train_test_split\n",
    "from sklearn.metrics import classification_report\n",
    "from sklearn.metrics import accuracy_score\n",
    "from sklearn.metrics import confusion_matrix\n",
    "from sklearn import svm\n",
    "from sklearn.linear_model import LogisticRegression\n",
    "from sklearn.neural_network import MLPClassifier, MLPRegressor"
   ]
  },
  {
   "cell_type": "code",
   "execution_count": 16,
   "metadata": {},
   "outputs": [
    {
     "name": "stderr",
     "output_type": "stream",
     "text": [
      "C:\\Users\\PranaviPadegal\\Anaconda3\\lib\\site-packages\\IPython\\core\\interactiveshell.py:2785: DtypeWarning: Columns (12,36,37,38,39) have mixed types. Specify dtype option on import or set low_memory=False.\n",
      "  interactivity=interactivity, compiler=compiler, result=result)\n"
     ]
    }
   ],
   "source": [
    "df = pd.read_csv(\"details_All.csv\",encoding='latin-1')"
   ]
  },
  {
   "cell_type": "code",
   "execution_count": 17,
   "metadata": {},
   "outputs": [],
   "source": [
    "data = df[['MONTH','BID_ID',\"SOURCE_SYS_CD\",\"PRICE_TO_BP\",\"BID_MARGIN_TOTAL\",\"BID_MARGIN\",\"BID_DISCOUNT\",\"STOP_BIDS\",\"BPCOPS\",\n",
    "            \"MISSING\",\"COUNTRY\",\"CONFIDENTIALITY\",\"ROUTE_TO_MARKET\",\"NON_COMPETITIVE_BID\",\"OFF_SHORE_PMT_TERMS\",\"BUNDLED_SOLUTION\",\n",
    "            \"CONTINGENCY_FEE\",\"FOCUS\",\"HW_SW\"]]"
   ]
  },
  {
   "cell_type": "code",
   "execution_count": 18,
   "metadata": {},
   "outputs": [],
   "source": [
    "data = data[pd.notnull(data['COUNTRY'])]\n",
    "#df.replace({\"\":np.nan}, inplace=True)\n",
    "#df.fillna(df.mode().iloc[0])"
   ]
  },
  {
   "cell_type": "code",
   "execution_count": 19,
   "metadata": {},
   "outputs": [],
   "source": [
    "new_data =  data.replace({\"(null)\":np.nan})"
   ]
  },
  {
   "cell_type": "code",
   "execution_count": 20,
   "metadata": {},
   "outputs": [
    {
     "data": {
      "text/plain": [
       "51772"
      ]
     },
     "execution_count": 20,
     "metadata": {},
     "output_type": "execute_result"
    }
   ],
   "source": [
    "new_data.isnull().values.sum()"
   ]
  },
  {
   "cell_type": "code",
   "execution_count": 21,
   "metadata": {},
   "outputs": [],
   "source": [
    "new_data = new_data.fillna(new_data.mode().iloc[0])"
   ]
  },
  {
   "cell_type": "code",
   "execution_count": 22,
   "metadata": {},
   "outputs": [
    {
     "data": {
      "text/plain": [
       "(27406, 19)"
      ]
     },
     "execution_count": 22,
     "metadata": {},
     "output_type": "execute_result"
    }
   ],
   "source": [
    "new_data.shape"
   ]
  },
  {
   "cell_type": "code",
   "execution_count": 23,
   "metadata": {},
   "outputs": [],
   "source": [
    "#new_data['BID_ID'] = new_data['BID_ID'].map(lambda x: re.sub(r'\\W+', '', x))"
   ]
  },
  {
   "cell_type": "code",
   "execution_count": 24,
   "metadata": {},
   "outputs": [
    {
     "data": {
      "text/html": [
       "<div>\n",
       "<style scoped>\n",
       "    .dataframe tbody tr th:only-of-type {\n",
       "        vertical-align: middle;\n",
       "    }\n",
       "\n",
       "    .dataframe tbody tr th {\n",
       "        vertical-align: top;\n",
       "    }\n",
       "\n",
       "    .dataframe thead th {\n",
       "        text-align: right;\n",
       "    }\n",
       "</style>\n",
       "<table border=\"1\" class=\"dataframe\">\n",
       "  <thead>\n",
       "    <tr style=\"text-align: right;\">\n",
       "      <th></th>\n",
       "      <th>MONTH</th>\n",
       "      <th>BID_ID</th>\n",
       "      <th>SOURCE_SYS_CD</th>\n",
       "      <th>PRICE_TO_BP</th>\n",
       "      <th>BID_MARGIN_TOTAL</th>\n",
       "      <th>BID_MARGIN</th>\n",
       "      <th>BID_DISCOUNT</th>\n",
       "      <th>STOP_BIDS</th>\n",
       "      <th>BPCOPS</th>\n",
       "      <th>MISSING</th>\n",
       "      <th>COUNTRY</th>\n",
       "      <th>CONFIDENTIALITY</th>\n",
       "      <th>ROUTE_TO_MARKET</th>\n",
       "      <th>NON_COMPETITIVE_BID</th>\n",
       "      <th>OFF_SHORE_PMT_TERMS</th>\n",
       "      <th>BUNDLED_SOLUTION</th>\n",
       "      <th>CONTINGENCY_FEE</th>\n",
       "      <th>FOCUS</th>\n",
       "      <th>HW_SW</th>\n",
       "    </tr>\n",
       "  </thead>\n",
       "  <tbody>\n",
       "    <tr>\n",
       "      <th>0</th>\n",
       "      <td>4</td>\n",
       "      <td>10aile4v-OaP8200</td>\n",
       "      <td>OPRA</td>\n",
       "      <td>34236.8000</td>\n",
       "      <td>1027.1035</td>\n",
       "      <td>2.91262</td>\n",
       "      <td>96.73474</td>\n",
       "      <td>0</td>\n",
       "      <td>0</td>\n",
       "      <td>1</td>\n",
       "      <td>TW</td>\n",
       "      <td>N</td>\n",
       "      <td>N</td>\n",
       "      <td>N</td>\n",
       "      <td>N</td>\n",
       "      <td>N</td>\n",
       "      <td>N</td>\n",
       "      <td>0</td>\n",
       "      <td>HW</td>\n",
       "    </tr>\n",
       "    <tr>\n",
       "      <th>1</th>\n",
       "      <td>9</td>\n",
       "      <td>10aile4v-OaP8640</td>\n",
       "      <td>OPRA</td>\n",
       "      <td>58588.0200</td>\n",
       "      <td>6184.2853</td>\n",
       "      <td>9.54773</td>\n",
       "      <td>97.12923</td>\n",
       "      <td>0</td>\n",
       "      <td>0</td>\n",
       "      <td>0</td>\n",
       "      <td>TW</td>\n",
       "      <td>N</td>\n",
       "      <td>N</td>\n",
       "      <td>N</td>\n",
       "      <td>N</td>\n",
       "      <td>N</td>\n",
       "      <td>N</td>\n",
       "      <td>0</td>\n",
       "      <td>HW</td>\n",
       "    </tr>\n",
       "    <tr>\n",
       "      <th>2</th>\n",
       "      <td>6</td>\n",
       "      <td>10aile4v-OaP8404</td>\n",
       "      <td>OPRA</td>\n",
       "      <td>57095.8465</td>\n",
       "      <td>1841.8015</td>\n",
       "      <td>3.125</td>\n",
       "      <td>97.42264</td>\n",
       "      <td>0</td>\n",
       "      <td>0</td>\n",
       "      <td>0</td>\n",
       "      <td>TW</td>\n",
       "      <td>N</td>\n",
       "      <td>N</td>\n",
       "      <td>N</td>\n",
       "      <td>N</td>\n",
       "      <td>N</td>\n",
       "      <td>N</td>\n",
       "      <td>0</td>\n",
       "      <td>HW</td>\n",
       "    </tr>\n",
       "    <tr>\n",
       "      <th>3</th>\n",
       "      <td>9</td>\n",
       "      <td>10aile4v-OaP8630</td>\n",
       "      <td>OPRA</td>\n",
       "      <td>122709.3530</td>\n",
       "      <td>5734.7869</td>\n",
       "      <td>4.46481</td>\n",
       "      <td>96.40123</td>\n",
       "      <td>0</td>\n",
       "      <td>0</td>\n",
       "      <td>0</td>\n",
       "      <td>TW</td>\n",
       "      <td>N</td>\n",
       "      <td>N</td>\n",
       "      <td>N</td>\n",
       "      <td>N</td>\n",
       "      <td>N</td>\n",
       "      <td>N</td>\n",
       "      <td>0</td>\n",
       "      <td>HW</td>\n",
       "    </tr>\n",
       "    <tr>\n",
       "      <th>4</th>\n",
       "      <td>9</td>\n",
       "      <td>10aile4v-OaP8642</td>\n",
       "      <td>OPRA</td>\n",
       "      <td>122709.3530</td>\n",
       "      <td>5812.2884</td>\n",
       "      <td>4.52242</td>\n",
       "      <td>96.40123</td>\n",
       "      <td>0</td>\n",
       "      <td>0</td>\n",
       "      <td>0</td>\n",
       "      <td>TW</td>\n",
       "      <td>N</td>\n",
       "      <td>N</td>\n",
       "      <td>N</td>\n",
       "      <td>N</td>\n",
       "      <td>N</td>\n",
       "      <td>N</td>\n",
       "      <td>0</td>\n",
       "      <td>HW</td>\n",
       "    </tr>\n",
       "  </tbody>\n",
       "</table>\n",
       "</div>"
      ],
      "text/plain": [
       "   MONTH            BID_ID SOURCE_SYS_CD  PRICE_TO_BP BID_MARGIN_TOTAL  \\\n",
       "0      4  10aile4v-OaP8200          OPRA   34236.8000        1027.1035   \n",
       "1      9  10aile4v-OaP8640          OPRA   58588.0200        6184.2853   \n",
       "2      6  10aile4v-OaP8404          OPRA   57095.8465        1841.8015   \n",
       "3      9  10aile4v-OaP8630          OPRA  122709.3530        5734.7869   \n",
       "4      9  10aile4v-OaP8642          OPRA  122709.3530        5812.2884   \n",
       "\n",
       "  BID_MARGIN BID_DISCOUNT  STOP_BIDS  BPCOPS  MISSING COUNTRY CONFIDENTIALITY  \\\n",
       "0    2.91262     96.73474          0       0        1      TW               N   \n",
       "1    9.54773     97.12923          0       0        0      TW               N   \n",
       "2      3.125     97.42264          0       0        0      TW               N   \n",
       "3    4.46481     96.40123          0       0        0      TW               N   \n",
       "4    4.52242     96.40123          0       0        0      TW               N   \n",
       "\n",
       "  ROUTE_TO_MARKET NON_COMPETITIVE_BID OFF_SHORE_PMT_TERMS BUNDLED_SOLUTION  \\\n",
       "0               N                   N                   N                N   \n",
       "1               N                   N                   N                N   \n",
       "2               N                   N                   N                N   \n",
       "3               N                   N                   N                N   \n",
       "4               N                   N                   N                N   \n",
       "\n",
       "  CONTINGENCY_FEE  FOCUS HW_SW  \n",
       "0               N      0    HW  \n",
       "1               N      0    HW  \n",
       "2               N      0    HW  \n",
       "3               N      0    HW  \n",
       "4               N      0    HW  "
      ]
     },
     "execution_count": 24,
     "metadata": {},
     "output_type": "execute_result"
    }
   ],
   "source": [
    "new_data.head()"
   ]
  },
  {
   "cell_type": "code",
   "execution_count": 25,
   "metadata": {},
   "outputs": [],
   "source": [
    "#new_data['BID_ID'] = new_data.BID_ID.str.replace(r'\\D+', '')\n"
   ]
  },
  {
   "cell_type": "code",
   "execution_count": 26,
   "metadata": {},
   "outputs": [
    {
     "data": {
      "text/plain": [
       "0"
      ]
     },
     "execution_count": 26,
     "metadata": {},
     "output_type": "execute_result"
    }
   ],
   "source": [
    "new_data.isnull().values.sum()"
   ]
  },
  {
   "cell_type": "code",
   "execution_count": 27,
   "metadata": {},
   "outputs": [
    {
     "data": {
      "text/html": [
       "<div>\n",
       "<style scoped>\n",
       "    .dataframe tbody tr th:only-of-type {\n",
       "        vertical-align: middle;\n",
       "    }\n",
       "\n",
       "    .dataframe tbody tr th {\n",
       "        vertical-align: top;\n",
       "    }\n",
       "\n",
       "    .dataframe thead th {\n",
       "        text-align: right;\n",
       "    }\n",
       "</style>\n",
       "<table border=\"1\" class=\"dataframe\">\n",
       "  <thead>\n",
       "    <tr style=\"text-align: right;\">\n",
       "      <th></th>\n",
       "      <th>MONTH</th>\n",
       "      <th>BID_ID</th>\n",
       "      <th>SOURCE_SYS_CD</th>\n",
       "      <th>PRICE_TO_BP</th>\n",
       "      <th>BID_MARGIN_TOTAL</th>\n",
       "      <th>BID_MARGIN</th>\n",
       "      <th>BID_DISCOUNT</th>\n",
       "      <th>STOP_BIDS</th>\n",
       "      <th>BPCOPS</th>\n",
       "      <th>MISSING</th>\n",
       "      <th>COUNTRY</th>\n",
       "      <th>CONFIDENTIALITY</th>\n",
       "      <th>ROUTE_TO_MARKET</th>\n",
       "      <th>NON_COMPETITIVE_BID</th>\n",
       "      <th>OFF_SHORE_PMT_TERMS</th>\n",
       "      <th>BUNDLED_SOLUTION</th>\n",
       "      <th>CONTINGENCY_FEE</th>\n",
       "      <th>FOCUS</th>\n",
       "      <th>HW_SW</th>\n",
       "    </tr>\n",
       "  </thead>\n",
       "  <tbody>\n",
       "    <tr>\n",
       "      <th>27415</th>\n",
       "      <td>6</td>\n",
       "      <td>KR6442382                                     ...</td>\n",
       "      <td>EPRICER</td>\n",
       "      <td>67172.4878</td>\n",
       "      <td>11853.9697</td>\n",
       "      <td>15</td>\n",
       "      <td>83.5</td>\n",
       "      <td>0</td>\n",
       "      <td>0</td>\n",
       "      <td>0</td>\n",
       "      <td>KR</td>\n",
       "      <td>N</td>\n",
       "      <td>N</td>\n",
       "      <td>N</td>\n",
       "      <td>N</td>\n",
       "      <td>N</td>\n",
       "      <td>N</td>\n",
       "      <td>0</td>\n",
       "      <td>HW</td>\n",
       "    </tr>\n",
       "    <tr>\n",
       "      <th>27416</th>\n",
       "      <td>9</td>\n",
       "      <td>KR6821226                                     ...</td>\n",
       "      <td>EPRICER</td>\n",
       "      <td>266045.4808</td>\n",
       "      <td>26312.1907</td>\n",
       "      <td>9</td>\n",
       "      <td>86.4</td>\n",
       "      <td>0</td>\n",
       "      <td>0</td>\n",
       "      <td>0</td>\n",
       "      <td>KR</td>\n",
       "      <td>N</td>\n",
       "      <td>N</td>\n",
       "      <td>N</td>\n",
       "      <td>N</td>\n",
       "      <td>N</td>\n",
       "      <td>N</td>\n",
       "      <td>1</td>\n",
       "      <td>HW</td>\n",
       "    </tr>\n",
       "    <tr>\n",
       "      <th>27417</th>\n",
       "      <td>9</td>\n",
       "      <td>8500209367</td>\n",
       "      <td>BH</td>\n",
       "      <td>24584.6800</td>\n",
       "      <td>3038.53</td>\n",
       "      <td>11</td>\n",
       "      <td>99.28</td>\n",
       "      <td>0</td>\n",
       "      <td>0</td>\n",
       "      <td>0</td>\n",
       "      <td>CN</td>\n",
       "      <td>N</td>\n",
       "      <td>N</td>\n",
       "      <td>N</td>\n",
       "      <td>N</td>\n",
       "      <td>N</td>\n",
       "      <td>N</td>\n",
       "      <td>0</td>\n",
       "      <td>HW</td>\n",
       "    </tr>\n",
       "    <tr>\n",
       "      <th>27418</th>\n",
       "      <td>9</td>\n",
       "      <td>8500209719</td>\n",
       "      <td>BH</td>\n",
       "      <td>191816.7600</td>\n",
       "      <td>32661.549</td>\n",
       "      <td>14.55</td>\n",
       "      <td>99.6548</td>\n",
       "      <td>0</td>\n",
       "      <td>0</td>\n",
       "      <td>0</td>\n",
       "      <td>CN</td>\n",
       "      <td>Y</td>\n",
       "      <td>N</td>\n",
       "      <td>N</td>\n",
       "      <td>N</td>\n",
       "      <td>Y</td>\n",
       "      <td>N</td>\n",
       "      <td>1</td>\n",
       "      <td>HW</td>\n",
       "    </tr>\n",
       "    <tr>\n",
       "      <th>27419</th>\n",
       "      <td>11</td>\n",
       "      <td>10aile4v-OaP7911</td>\n",
       "      <td>OPRA</td>\n",
       "      <td>226953.1980</td>\n",
       "      <td>41215.5854</td>\n",
       "      <td>15.36927</td>\n",
       "      <td>83.607</td>\n",
       "      <td>0</td>\n",
       "      <td>0</td>\n",
       "      <td>1</td>\n",
       "      <td>TW</td>\n",
       "      <td>N</td>\n",
       "      <td>N</td>\n",
       "      <td>N</td>\n",
       "      <td>N</td>\n",
       "      <td>N</td>\n",
       "      <td>N</td>\n",
       "      <td>1</td>\n",
       "      <td>HW</td>\n",
       "    </tr>\n",
       "  </tbody>\n",
       "</table>\n",
       "</div>"
      ],
      "text/plain": [
       "       MONTH                                             BID_ID SOURCE_SYS_CD  \\\n",
       "27415      6  KR6442382                                     ...       EPRICER   \n",
       "27416      9  KR6821226                                     ...       EPRICER   \n",
       "27417      9                                         8500209367            BH   \n",
       "27418      9                                         8500209719            BH   \n",
       "27419     11                                   10aile4v-OaP7911          OPRA   \n",
       "\n",
       "       PRICE_TO_BP BID_MARGIN_TOTAL BID_MARGIN BID_DISCOUNT  STOP_BIDS  \\\n",
       "27415   67172.4878       11853.9697         15         83.5          0   \n",
       "27416  266045.4808       26312.1907          9         86.4          0   \n",
       "27417   24584.6800          3038.53         11        99.28          0   \n",
       "27418  191816.7600        32661.549      14.55      99.6548          0   \n",
       "27419  226953.1980       41215.5854   15.36927       83.607          0   \n",
       "\n",
       "       BPCOPS  MISSING COUNTRY CONFIDENTIALITY ROUTE_TO_MARKET  \\\n",
       "27415       0        0      KR               N               N   \n",
       "27416       0        0      KR               N               N   \n",
       "27417       0        0      CN               N               N   \n",
       "27418       0        0      CN               Y               N   \n",
       "27419       0        1      TW               N               N   \n",
       "\n",
       "      NON_COMPETITIVE_BID OFF_SHORE_PMT_TERMS BUNDLED_SOLUTION  \\\n",
       "27415                   N                   N                N   \n",
       "27416                   N                   N                N   \n",
       "27417                   N                   N                N   \n",
       "27418                   N                   N                Y   \n",
       "27419                   N                   N                N   \n",
       "\n",
       "      CONTINGENCY_FEE  FOCUS HW_SW  \n",
       "27415               N      0    HW  \n",
       "27416               N      1    HW  \n",
       "27417               N      0    HW  \n",
       "27418               N      1    HW  \n",
       "27419               N      1    HW  "
      ]
     },
     "execution_count": 27,
     "metadata": {},
     "output_type": "execute_result"
    }
   ],
   "source": [
    "new_data.tail()"
   ]
  },
  {
   "cell_type": "code",
   "execution_count": 28,
   "metadata": {},
   "outputs": [
    {
     "data": {
      "text/plain": [
       "MONTH                    int64\n",
       "BID_ID                  object\n",
       "SOURCE_SYS_CD           object\n",
       "PRICE_TO_BP            float64\n",
       "BID_MARGIN_TOTAL        object\n",
       "BID_MARGIN              object\n",
       "BID_DISCOUNT            object\n",
       "STOP_BIDS                int64\n",
       "BPCOPS                   int64\n",
       "MISSING                  int64\n",
       "COUNTRY                 object\n",
       "CONFIDENTIALITY         object\n",
       "ROUTE_TO_MARKET         object\n",
       "NON_COMPETITIVE_BID     object\n",
       "OFF_SHORE_PMT_TERMS     object\n",
       "BUNDLED_SOLUTION        object\n",
       "CONTINGENCY_FEE         object\n",
       "FOCUS                    int64\n",
       "HW_SW                   object\n",
       "dtype: object"
      ]
     },
     "execution_count": 28,
     "metadata": {},
     "output_type": "execute_result"
    }
   ],
   "source": [
    "new_data.dtypes"
   ]
  },
  {
   "cell_type": "code",
   "execution_count": 29,
   "metadata": {},
   "outputs": [],
   "source": [
    "#new_data['bid_id'] = new_data['bid_id'].astype(int)\n",
    "new_data['BID_MARGIN_TOTAL'] = new_data['BID_MARGIN_TOTAL'].astype(float)\n",
    "new_data['BID_MARGIN'] = new_data['BID_MARGIN'].astype(float)\n",
    "new_data['BID_DISCOUNT'] = new_data['BID_DISCOUNT'].astype(float)"
   ]
  },
  {
   "cell_type": "code",
   "execution_count": 30,
   "metadata": {},
   "outputs": [
    {
     "data": {
      "text/plain": [
       "MONTH                    int64\n",
       "BID_ID                  object\n",
       "SOURCE_SYS_CD           object\n",
       "PRICE_TO_BP            float64\n",
       "BID_MARGIN_TOTAL       float64\n",
       "BID_MARGIN             float64\n",
       "BID_DISCOUNT           float64\n",
       "STOP_BIDS                int64\n",
       "BPCOPS                   int64\n",
       "MISSING                  int64\n",
       "COUNTRY                 object\n",
       "CONFIDENTIALITY         object\n",
       "ROUTE_TO_MARKET         object\n",
       "NON_COMPETITIVE_BID     object\n",
       "OFF_SHORE_PMT_TERMS     object\n",
       "BUNDLED_SOLUTION        object\n",
       "CONTINGENCY_FEE         object\n",
       "FOCUS                    int64\n",
       "HW_SW                   object\n",
       "dtype: object"
      ]
     },
     "execution_count": 30,
     "metadata": {},
     "output_type": "execute_result"
    }
   ],
   "source": [
    "new_data.dtypes"
   ]
  },
  {
   "cell_type": "code",
   "execution_count": 31,
   "metadata": {},
   "outputs": [],
   "source": [
    "new_data=pd.get_dummies(new_data, columns=['COUNTRY'])\n",
    "#del data_1['COUNTRY_']"
   ]
  },
  {
   "cell_type": "code",
   "execution_count": 32,
   "metadata": {},
   "outputs": [],
   "source": [
    "new_data['BID_DISCOUNT'] = new_data['BID_DISCOUNT'].astype(float)\n",
    "new_data['BID_MARGIN'] = new_data['BID_MARGIN'].astype(float)\n",
    "new_data['BID_MARGIN_TOTAL'] = new_data['BID_MARGIN_TOTAL'].astype(float)"
   ]
  },
  {
   "cell_type": "code",
   "execution_count": 33,
   "metadata": {
    "scrolled": true
   },
   "outputs": [
    {
     "data": {
      "text/plain": [
       "MONTH                    int64\n",
       "BID_ID                  object\n",
       "SOURCE_SYS_CD           object\n",
       "PRICE_TO_BP            float64\n",
       "BID_MARGIN_TOTAL       float64\n",
       "BID_MARGIN             float64\n",
       "BID_DISCOUNT           float64\n",
       "STOP_BIDS                int64\n",
       "BPCOPS                   int64\n",
       "MISSING                  int64\n",
       "CONFIDENTIALITY         object\n",
       "ROUTE_TO_MARKET         object\n",
       "NON_COMPETITIVE_BID     object\n",
       "OFF_SHORE_PMT_TERMS     object\n",
       "BUNDLED_SOLUTION        object\n",
       "CONTINGENCY_FEE         object\n",
       "FOCUS                    int64\n",
       "HW_SW                   object\n",
       "COUNTRY_AE               uint8\n",
       "COUNTRY_AF               uint8\n",
       "COUNTRY_AL               uint8\n",
       "COUNTRY_AM               uint8\n",
       "COUNTRY_AO               uint8\n",
       "COUNTRY_AR               uint8\n",
       "COUNTRY_AZ               uint8\n",
       "COUNTRY_BA               uint8\n",
       "COUNTRY_BD               uint8\n",
       "COUNTRY_BF               uint8\n",
       "COUNTRY_BG               uint8\n",
       "COUNTRY_BH               uint8\n",
       "                        ...   \n",
       "COUNTRY_PE               uint8\n",
       "COUNTRY_PH               uint8\n",
       "COUNTRY_PK               uint8\n",
       "COUNTRY_PL               uint8\n",
       "COUNTRY_PY               uint8\n",
       "COUNTRY_QA               uint8\n",
       "COUNTRY_RO               uint8\n",
       "COUNTRY_RS               uint8\n",
       "COUNTRY_RU               uint8\n",
       "COUNTRY_SA               uint8\n",
       "COUNTRY_SG               uint8\n",
       "COUNTRY_SI               uint8\n",
       "COUNTRY_SK               uint8\n",
       "COUNTRY_SN               uint8\n",
       "COUNTRY_SV               uint8\n",
       "COUNTRY_TG               uint8\n",
       "COUNTRY_TH               uint8\n",
       "COUNTRY_TN               uint8\n",
       "COUNTRY_TR               uint8\n",
       "COUNTRY_TW               uint8\n",
       "COUNTRY_TZ               uint8\n",
       "COUNTRY_UA               uint8\n",
       "COUNTRY_UG               uint8\n",
       "COUNTRY_UY               uint8\n",
       "COUNTRY_UZ               uint8\n",
       "COUNTRY_VE               uint8\n",
       "COUNTRY_VN               uint8\n",
       "COUNTRY_ZA               uint8\n",
       "COUNTRY_ZM               uint8\n",
       "COUNTRY_ZW               uint8\n",
       "Length: 121, dtype: object"
      ]
     },
     "execution_count": 33,
     "metadata": {},
     "output_type": "execute_result"
    }
   ],
   "source": [
    "new_data.dtypes"
   ]
  },
  {
   "cell_type": "code",
   "execution_count": 34,
   "metadata": {},
   "outputs": [],
   "source": [
    "X = new_data.drop(['FOCUS','BID_ID'],axis = 1).values\n",
    "Y = new_data['FOCUS'].values"
   ]
  },
  {
   "cell_type": "code",
   "execution_count": 35,
   "metadata": {},
   "outputs": [
    {
     "data": {
      "text/plain": [
       "array([[4, 'OPRA', 34236.8, ..., 0, 0, 0],\n",
       "       [9, 'OPRA', 58588.02, ..., 0, 0, 0],\n",
       "       [6, 'OPRA', 57095.8465, ..., 0, 0, 0],\n",
       "       ...,\n",
       "       [9, 'BH', 24584.68, ..., 0, 0, 0],\n",
       "       [9, 'BH', 191816.76, ..., 0, 0, 0],\n",
       "       [11, 'OPRA', 226953.198, ..., 0, 0, 0]], dtype=object)"
      ]
     },
     "execution_count": 35,
     "metadata": {},
     "output_type": "execute_result"
    }
   ],
   "source": [
    "X"
   ]
  },
  {
   "cell_type": "code",
   "execution_count": 36,
   "metadata": {},
   "outputs": [
    {
     "data": {
      "text/plain": [
       "array([0, 0, 0, ..., 0, 1, 1], dtype=int64)"
      ]
     },
     "execution_count": 36,
     "metadata": {},
     "output_type": "execute_result"
    }
   ],
   "source": [
    "Y"
   ]
  },
  {
   "cell_type": "code",
   "execution_count": 37,
   "metadata": {},
   "outputs": [],
   "source": [
    "labelencoder_X_1 = LabelEncoder()\n",
    "\n",
    "X[:,1] = labelencoder_X_1.fit_transform(X[:,1])\n",
    "X[:,9] = labelencoder_X_1.fit_transform(X[:,9])\n",
    "X[:,10] = labelencoder_X_1.fit_transform(X[:,10])\n",
    "X[:,11] = labelencoder_X_1.fit_transform(X[:,11])\n",
    "X[:,12] = labelencoder_X_1.fit_transform(X[:,12])\n",
    "X[:,13] = labelencoder_X_1.fit_transform(X[:,13])\n",
    "X[:,14] = labelencoder_X_1.fit_transform(X[:,14])\n",
    "X[:,15] = labelencoder_X_1.fit_transform(X[:,15])"
   ]
  },
  {
   "cell_type": "code",
   "execution_count": 38,
   "metadata": {},
   "outputs": [
    {
     "data": {
      "text/plain": [
       "array([[4, 3, 34236.8, ..., 0, 0, 0],\n",
       "       [9, 3, 58588.02, ..., 0, 0, 0],\n",
       "       [6, 3, 57095.8465, ..., 0, 0, 0],\n",
       "       ...,\n",
       "       [9, 0, 24584.68, ..., 0, 0, 0],\n",
       "       [9, 0, 191816.76, ..., 0, 0, 0],\n",
       "       [11, 3, 226953.198, ..., 0, 0, 0]], dtype=object)"
      ]
     },
     "execution_count": 38,
     "metadata": {},
     "output_type": "execute_result"
    }
   ],
   "source": [
    "X"
   ]
  },
  {
   "cell_type": "code",
   "execution_count": 39,
   "metadata": {},
   "outputs": [],
   "source": [
    "x_train, x_test,y_train,y_test = train_test_split(X,Y,test_size = 0.3,random_state = 10)"
   ]
  },
  {
   "cell_type": "code",
   "execution_count": 45,
   "metadata": {},
   "outputs": [
    {
     "data": {
      "text/plain": [
       "array([1, 0, 0, ..., 0, 0, 1], dtype=int64)"
      ]
     },
     "execution_count": 45,
     "metadata": {},
     "output_type": "execute_result"
    }
   ],
   "source": [
    "y_train"
   ]
  },
  {
   "cell_type": "code",
   "execution_count": 46,
   "metadata": {},
   "outputs": [
    {
     "name": "stderr",
     "output_type": "stream",
     "text": [
      "C:\\Users\\PranaviPadegal\\Anaconda3\\lib\\site-packages\\sklearn\\utils\\validation.py:475: DataConversionWarning: Data with input dtype object was converted to float64 by StandardScaler.\n",
      "  warnings.warn(msg, DataConversionWarning)\n"
     ]
    }
   ],
   "source": [
    "from sklearn.preprocessing import StandardScaler\n",
    "sc = StandardScaler()\n",
    "x_train = sc.fit_transform(x_train)\n",
    "x_test = sc.transform(x_test)"
   ]
  },
  {
   "cell_type": "code",
   "execution_count": 47,
   "metadata": {},
   "outputs": [],
   "source": [
    "model_logr = LogisticRegression()"
   ]
  },
  {
   "cell_type": "code",
   "execution_count": 48,
   "metadata": {},
   "outputs": [
    {
     "data": {
      "text/plain": [
       "LogisticRegression(C=1.0, class_weight=None, dual=False, fit_intercept=True,\n",
       "          intercept_scaling=1, max_iter=100, multi_class='ovr', n_jobs=1,\n",
       "          penalty='l2', random_state=None, solver='liblinear', tol=0.0001,\n",
       "          verbose=0, warm_start=False)"
      ]
     },
     "execution_count": 48,
     "metadata": {},
     "output_type": "execute_result"
    }
   ],
   "source": [
    "model_logr.fit(x_train,y_train)"
   ]
  },
  {
   "cell_type": "code",
   "execution_count": 49,
   "metadata": {},
   "outputs": [
    {
     "name": "stdout",
     "output_type": "stream",
     "text": [
      "             precision    recall  f1-score   support\n",
      "\n",
      "          0       0.88      0.94      0.91      6251\n",
      "          1       0.75      0.57      0.65      1971\n",
      "\n",
      "avg / total       0.85      0.85      0.85      8222\n",
      "\n"
     ]
    }
   ],
   "source": [
    "y_predict = model_logr.predict(x_test)\n",
    "print(classification_report(y_test,y_predict))"
   ]
  },
  {
   "cell_type": "code",
   "execution_count": 50,
   "metadata": {},
   "outputs": [
    {
     "data": {
      "text/plain": [
       "array([[5876,  375],\n",
       "       [ 839, 1132]], dtype=int64)"
      ]
     },
     "execution_count": 50,
     "metadata": {},
     "output_type": "execute_result"
    }
   ],
   "source": [
    "confusion_matrix(y_test,y_predict)"
   ]
  },
  {
   "cell_type": "code",
   "execution_count": 51,
   "metadata": {},
   "outputs": [
    {
     "name": "stdout",
     "output_type": "stream",
     "text": [
      "0.8523473607394795\n"
     ]
    }
   ],
   "source": [
    "print(accuracy_score(y_test,y_predict))"
   ]
  },
  {
   "cell_type": "code",
   "execution_count": 52,
   "metadata": {},
   "outputs": [
    {
     "data": {
      "text/plain": [
       "MLPClassifier(activation='relu', alpha=0.0001, batch_size=10, beta_1=0.9,\n",
       "       beta_2=0.999, early_stopping=False, epsilon=1e-08,\n",
       "       hidden_layer_sizes=(100, 100, 100), learning_rate='constant',\n",
       "       learning_rate_init=0.01, max_iter=2000, momentum=0.9,\n",
       "       nesterovs_momentum=True, power_t=0.5, random_state=10, shuffle=True,\n",
       "       solver='adam', tol=0.0001, validation_fraction=0.1, verbose=False,\n",
       "       warm_start=False)"
      ]
     },
     "execution_count": 52,
     "metadata": {},
     "output_type": "execute_result"
    }
   ],
   "source": [
    "model_mlp = MLPClassifier(hidden_layer_sizes=(100,100,100),batch_size=10,learning_rate_init=0.01,max_iter=2000,random_state=10)\n",
    "model_mlp.fit(x_train,y_train)"
   ]
  },
  {
   "cell_type": "code",
   "execution_count": 53,
   "metadata": {},
   "outputs": [],
   "source": [
    "y_ann_predict = model_mlp.predict(x_test)"
   ]
  },
  {
   "cell_type": "code",
   "execution_count": 54,
   "metadata": {},
   "outputs": [
    {
     "name": "stdout",
     "output_type": "stream",
     "text": [
      "             precision    recall  f1-score   support\n",
      "\n",
      "          0       0.91      0.96      0.93      6251\n",
      "          1       0.86      0.68      0.76      1971\n",
      "\n",
      "avg / total       0.89      0.90      0.89      8222\n",
      "\n"
     ]
    }
   ],
   "source": [
    "print(classification_report(y_test,y_ann_predict))"
   ]
  },
  {
   "cell_type": "code",
   "execution_count": 55,
   "metadata": {},
   "outputs": [
    {
     "data": {
      "text/plain": [
       "array([[6032,  219],\n",
       "       [ 629, 1342]], dtype=int64)"
      ]
     },
     "execution_count": 55,
     "metadata": {},
     "output_type": "execute_result"
    }
   ],
   "source": [
    "confusion_matrix(y_test,y_ann_predict)"
   ]
  },
  {
   "cell_type": "code",
   "execution_count": 56,
   "metadata": {},
   "outputs": [
    {
     "name": "stdout",
     "output_type": "stream",
     "text": [
      "0.896862077353442\n"
     ]
    }
   ],
   "source": [
    "print(accuracy_score(y_test,y_ann_predict))"
   ]
  },
  {
   "cell_type": "code",
   "execution_count": 57,
   "metadata": {},
   "outputs": [],
   "source": [
    "svc_linear = svm.SVC(kernel='linear',C=1)"
   ]
  },
  {
   "cell_type": "code",
   "execution_count": 58,
   "metadata": {},
   "outputs": [
    {
     "data": {
      "text/plain": [
       "SVC(C=1, cache_size=200, class_weight=None, coef0=0.0,\n",
       "  decision_function_shape='ovr', degree=3, gamma='auto', kernel='linear',\n",
       "  max_iter=-1, probability=False, random_state=None, shrinking=True,\n",
       "  tol=0.001, verbose=False)"
      ]
     },
     "execution_count": 58,
     "metadata": {},
     "output_type": "execute_result"
    }
   ],
   "source": [
    "svc_linear.fit(x_train, y_train)"
   ]
  },
  {
   "cell_type": "code",
   "execution_count": 60,
   "metadata": {},
   "outputs": [
    {
     "name": "stdout",
     "output_type": "stream",
     "text": [
      "[[5907  344]\n",
      " [ 826 1145]]\n"
     ]
    }
   ],
   "source": [
    "y_svm_predict = svc_linear.predict(x_test)\n",
    "cnf_matrix = confusion_matrix(y_test, y_svm_predict)\n",
    "print(cnf_matrix)"
   ]
  },
  {
   "cell_type": "code",
   "execution_count": 61,
   "metadata": {},
   "outputs": [
    {
     "name": "stdout",
     "output_type": "stream",
     "text": [
      "             precision    recall  f1-score   support\n",
      "\n",
      "          0       0.88      0.94      0.91      6251\n",
      "          1       0.77      0.58      0.66      1971\n",
      "\n",
      "avg / total       0.85      0.86      0.85      8222\n",
      "\n"
     ]
    }
   ],
   "source": [
    "print(classification_report(y_test,y_svm_predict))"
   ]
  },
  {
   "cell_type": "code",
   "execution_count": 62,
   "metadata": {},
   "outputs": [
    {
     "name": "stdout",
     "output_type": "stream",
     "text": [
      "0.8576988567258574\n"
     ]
    }
   ],
   "source": [
    "print(accuracy_score(y_test,y_svm_predict))"
   ]
  },
  {
   "cell_type": "code",
   "execution_count": 77,
   "metadata": {},
   "outputs": [],
   "source": [
    "Y_train = np.array(y_train)\n",
    "listvalues = []\n",
    "listvalues.append(Y_train)\n",
    "listvalues.append(y_test)\n",
    "listvalues.append(y_svm_predict)\n"
   ]
  },
  {
   "cell_type": "code",
   "execution_count": 78,
   "metadata": {},
   "outputs": [],
   "source": [
    "import collections \n",
    "\n",
    "counter = []\n",
    "for i in range(len(listvalues)):\n",
    "    counter.append(collections.Counter(listvalues[i]))"
   ]
  },
  {
   "cell_type": "code",
   "execution_count": 79,
   "metadata": {},
   "outputs": [
    {
     "data": {
      "text/plain": [
       "[Counter({1: 4657, 0: 14527}),\n",
       " Counter({0: 6251, 1: 1971}),\n",
       " Counter({0: 6733, 1: 1489})]"
      ]
     },
     "execution_count": 79,
     "metadata": {},
     "output_type": "execute_result"
    }
   ],
   "source": [
    "counter"
   ]
  },
  {
   "cell_type": "code",
   "execution_count": 82,
   "metadata": {},
   "outputs": [
    {
     "data": {
      "text/plain": [
       "0.24275437864887406"
      ]
     },
     "execution_count": 82,
     "metadata": {},
     "output_type": "execute_result"
    }
   ],
   "source": [
    "(4657)/(14527+4657)"
   ]
  },
  {
   "cell_type": "code",
   "execution_count": 83,
   "metadata": {},
   "outputs": [
    {
     "data": {
      "text/plain": [
       "0.2397226952079786"
      ]
     },
     "execution_count": 83,
     "metadata": {},
     "output_type": "execute_result"
    }
   ],
   "source": [
    "(1971)/(6251+1971)"
   ]
  },
  {
   "cell_type": "code",
   "execution_count": 84,
   "metadata": {},
   "outputs": [
    {
     "data": {
      "text/plain": [
       "0.18109948917538313"
      ]
     },
     "execution_count": 84,
     "metadata": {},
     "output_type": "execute_result"
    }
   ],
   "source": [
    "(1489)/(6733+1489)"
   ]
  },
  {
   "cell_type": "code",
   "execution_count": null,
   "metadata": {},
   "outputs": [],
   "source": []
  }
 ],
 "metadata": {
  "kernelspec": {
   "display_name": "Python 3",
   "language": "python",
   "name": "python3"
  },
  "language_info": {
   "codemirror_mode": {
    "name": "ipython",
    "version": 3
   },
   "file_extension": ".py",
   "mimetype": "text/x-python",
   "name": "python",
   "nbconvert_exporter": "python",
   "pygments_lexer": "ipython3",
   "version": "3.6.5"
  }
 },
 "nbformat": 4,
 "nbformat_minor": 2
}
