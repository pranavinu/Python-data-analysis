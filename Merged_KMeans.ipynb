{
 "cells": [
  {
   "cell_type": "code",
   "execution_count": 1,
   "metadata": {},
   "outputs": [],
   "source": [
    "import pandas as pd\n",
    "import matplotlib.pyplot as plt\n",
    "from sklearn.cluster import KMeans\n",
    "from sklearn.preprocessing import scale\n",
    "import numpy as np\n",
    "from sklearn import metrics\n",
    "from scipy.spatial.distance import cdist"
   ]
  },
  {
   "cell_type": "code",
   "execution_count": 2,
   "metadata": {},
   "outputs": [],
   "source": [
    "data = pd.read_csv(\"mergeddata_17&18.csv\")"
   ]
  },
  {
   "cell_type": "code",
   "execution_count": 3,
   "metadata": {},
   "outputs": [
    {
     "data": {
      "text/html": [
       "<div>\n",
       "<style scoped>\n",
       "    .dataframe tbody tr th:only-of-type {\n",
       "        vertical-align: middle;\n",
       "    }\n",
       "\n",
       "    .dataframe tbody tr th {\n",
       "        vertical-align: top;\n",
       "    }\n",
       "\n",
       "    .dataframe thead th {\n",
       "        text-align: right;\n",
       "    }\n",
       "</style>\n",
       "<table border=\"1\" class=\"dataframe\">\n",
       "  <thead>\n",
       "    <tr style=\"text-align: right;\">\n",
       "      <th></th>\n",
       "      <th>ABS_MARGIN_MAX</th>\n",
       "      <th>ABS_MARGIN_AVG</th>\n",
       "      <th>ABS_MARGIN_SUM</th>\n",
       "      <th>geo</th>\n",
       "      <th>country</th>\n",
       "      <th>SUBGROUP</th>\n",
       "    </tr>\n",
       "  </thead>\n",
       "  <tbody>\n",
       "    <tr>\n",
       "      <th>0</th>\n",
       "      <td>6572729</td>\n",
       "      <td>125362</td>\n",
       "      <td>58947687</td>\n",
       "      <td>AP</td>\n",
       "      <td>IN</td>\n",
       "      <td>XLARGE</td>\n",
       "    </tr>\n",
       "    <tr>\n",
       "      <th>1</th>\n",
       "      <td>3934183</td>\n",
       "      <td>44128</td>\n",
       "      <td>18886274</td>\n",
       "      <td>AP</td>\n",
       "      <td>KR</td>\n",
       "      <td>XLARGE</td>\n",
       "    </tr>\n",
       "    <tr>\n",
       "      <th>2</th>\n",
       "      <td>777781</td>\n",
       "      <td>28931</td>\n",
       "      <td>9419587</td>\n",
       "      <td>AP</td>\n",
       "      <td>TW</td>\n",
       "      <td>LARGE</td>\n",
       "    </tr>\n",
       "    <tr>\n",
       "      <th>3</th>\n",
       "      <td>648627</td>\n",
       "      <td>17106</td>\n",
       "      <td>4235393</td>\n",
       "      <td>AP</td>\n",
       "      <td>HK</td>\n",
       "      <td>LARGE</td>\n",
       "    </tr>\n",
       "    <tr>\n",
       "      <th>4</th>\n",
       "      <td>737064</td>\n",
       "      <td>65372</td>\n",
       "      <td>6994830</td>\n",
       "      <td>AP</td>\n",
       "      <td>ID</td>\n",
       "      <td>LARGE</td>\n",
       "    </tr>\n",
       "  </tbody>\n",
       "</table>\n",
       "</div>"
      ],
      "text/plain": [
       "   ABS_MARGIN_MAX  ABS_MARGIN_AVG  ABS_MARGIN_SUM         geo  \\\n",
       "0         6572729          125362        58947687  AP           \n",
       "1         3934183           44128        18886274  AP           \n",
       "2          777781           28931         9419587  AP           \n",
       "3          648627           17106         4235393  AP           \n",
       "4          737064           65372         6994830  AP           \n",
       "\n",
       "            country SUBGROUP  \n",
       "0  IN                 XLARGE  \n",
       "1  KR                 XLARGE  \n",
       "2  TW                  LARGE  \n",
       "3  HK                  LARGE  \n",
       "4  ID                  LARGE  "
      ]
     },
     "execution_count": 3,
     "metadata": {},
     "output_type": "execute_result"
    }
   ],
   "source": [
    "data.head()"
   ]
  },
  {
   "cell_type": "code",
   "execution_count": 4,
   "metadata": {},
   "outputs": [
    {
     "data": {
      "text/plain": [
       "(70, 6)"
      ]
     },
     "execution_count": 4,
     "metadata": {},
     "output_type": "execute_result"
    }
   ],
   "source": [
    "data.shape"
   ]
  },
  {
   "cell_type": "code",
   "execution_count": 5,
   "metadata": {},
   "outputs": [
    {
     "data": {
      "text/plain": [
       "ABS_MARGIN_MAX     int64\n",
       "ABS_MARGIN_AVG     int64\n",
       "ABS_MARGIN_SUM     int64\n",
       "geo               object\n",
       "country           object\n",
       "SUBGROUP          object\n",
       "dtype: object"
      ]
     },
     "execution_count": 5,
     "metadata": {},
     "output_type": "execute_result"
    }
   ],
   "source": [
    "data.dtypes"
   ]
  },
  {
   "cell_type": "code",
   "execution_count": 6,
   "metadata": {},
   "outputs": [],
   "source": [
    "x = data.drop(['SUBGROUP','geo','country','ABS_MARGIN_SUM','ABS_MARGIN_AVG'],axis = 1).values"
   ]
  },
  {
   "cell_type": "code",
   "execution_count": 7,
   "metadata": {},
   "outputs": [
    {
     "name": "stderr",
     "output_type": "stream",
     "text": [
      "C:\\Users\\PranaviPadegal\\Anaconda3\\lib\\site-packages\\sklearn\\utils\\validation.py:475: DataConversionWarning: Data with input dtype int64 was converted to float64 by the scale function.\n",
      "  warnings.warn(msg, DataConversionWarning)\n"
     ]
    }
   ],
   "source": [
    "x = scale(x)"
   ]
  },
  {
   "cell_type": "code",
   "execution_count": 9,
   "metadata": {},
   "outputs": [],
   "source": [
    "distortions = []\n",
    "K = range(1,10)\n",
    "for k in K:\n",
    "    kmeanModel = KMeans(n_clusters=k)\n",
    "    kmeanModel.fit(x)\n",
    "    distortions.append(sum(np.min(cdist(x, kmeanModel.cluster_centers_, 'euclidean'), axis=1)) / x.shape[0])\n",
    " "
   ]
  },
  {
   "cell_type": "code",
   "execution_count": 10,
   "metadata": {},
   "outputs": [
    {
     "data": {
      "image/png": "[encoded data removed]",
      "text/plain": [
       "<Figure size 432x288 with 1 Axes>"
      ]
     },
     "metadata": {},
     "output_type": "display_data"
    }
   ],
   "source": [
    "plt.plot(K, distortions, 'bx-')\n",
    "plt.xlabel('k')\n",
    "plt.ylabel('Distortion')\n",
    "plt.title('The Elbow Method showing the optimal k')\n",
    "plt.show()"
   ]
  },
  {
   "cell_type": "code",
   "execution_count": 7,
   "metadata": {},
   "outputs": [],
   "source": [
    "Y = np.array(data.SUBGROUP)"
   ]
  },
  {
   "cell_type": "code",
   "execution_count": 8,
   "metadata": {},
   "outputs": [],
   "source": [
    "clustering = KMeans(n_clusters = 5,random_state= 1)"
   ]
  },
  {
   "cell_type": "code",
   "execution_count": 9,
   "metadata": {},
   "outputs": [
    {
     "data": {
      "text/plain": [
       "KMeans(algorithm='auto', copy_x=True, init='k-means++', max_iter=300,\n",
       "    n_clusters=5, n_init=10, n_jobs=1, precompute_distances='auto',\n",
       "    random_state=1, tol=0.0001, verbose=0)"
      ]
     },
     "execution_count": 9,
     "metadata": {},
     "output_type": "execute_result"
    }
   ],
   "source": [
    "clustering.fit(x)"
   ]
  },
  {
   "cell_type": "code",
   "execution_count": 10,
   "metadata": {},
   "outputs": [],
   "source": [
    "idx = np.argsort(clustering.cluster_centers_.sum(axis=1))\n",
    "#lut = np.zeros_like(idx)\n",
    "#lut[idx] = np.arange(5)"
   ]
  },
  {
   "cell_type": "code",
   "execution_count": 11,
   "metadata": {},
   "outputs": [
    {
     "data": {
      "text/plain": [
       "array([-4.90909829e-01,  3.09533781e+00,  1.80968450e-03,  5.17419034e+00,\n",
       "        8.30549396e-01])"
      ]
     },
     "execution_count": 11,
     "metadata": {},
     "output_type": "execute_result"
    }
   ],
   "source": [
    "clustering.cluster_centers_.sum(axis=1)"
   ]
  },
  {
   "cell_type": "code",
   "execution_count": 12,
   "metadata": {},
   "outputs": [
    {
     "data": {
      "text/plain": [
       "array([0, 2, 4, 1, 3], dtype=int64)"
      ]
     },
     "execution_count": 12,
     "metadata": {},
     "output_type": "execute_result"
    }
   ],
   "source": [
    "idx"
   ]
  },
  {
   "cell_type": "code",
   "execution_count": 14,
   "metadata": {},
   "outputs": [
    {
     "data": {
      "text/plain": [
       "array([3, 1, 2, 2, 2, 2, 0, 2, 0, 0, 0, 0, 0, 0, 4, 2, 2, 2, 2, 2, 0, 0,\n",
       "       2, 0, 0, 0, 0, 2, 0, 0, 0, 0, 1, 2, 2, 2, 0, 2, 2, 0, 4, 2, 0, 4,\n",
       "       4, 2, 0, 0, 0, 0, 0, 0, 0, 0, 0, 2, 0, 1, 2, 4, 0, 2, 2, 0, 0, 0,\n",
       "       0, 0, 0, 0])"
      ]
     },
     "execution_count": 14,
     "metadata": {},
     "output_type": "execute_result"
    }
   ],
   "source": [
    "clustering.labels_"
   ]
  },
  {
   "cell_type": "code",
   "execution_count": 15,
   "metadata": {},
   "outputs": [],
   "source": [
    "y = pd.DataFrame(clustering.labels_)"
   ]
  },
  {
   "cell_type": "code",
   "execution_count": 16,
   "metadata": {},
   "outputs": [],
   "source": [
    "y.columns = ['Predicted(SUM)']"
   ]
  },
  {
   "cell_type": "code",
   "execution_count": 17,
   "metadata": {},
   "outputs": [],
   "source": [
    "data['Predicted(SUM)'] = y['Predicted(SUM)']"
   ]
  },
  {
   "cell_type": "code",
   "execution_count": 18,
   "metadata": {},
   "outputs": [
    {
     "data": {
      "text/plain": [
       "array(['XLARGE', 'XLARGE', 'LARGE', 'LARGE', 'LARGE', 'LARGE', 'MEDIUM',\n",
       "       'LARGE', 'SMALL', 'MEDIUM', 'SMALL', 'MEDIUM', 'SMALL', 'SMALL',\n",
       "       'XLARGE', 'LARGE', 'LARGE', 'MEDIUM', 'MEDIUM', 'LARGE', 'MEDIUM',\n",
       "       'SMALL', 'MEDIUM', 'MEDIUM', 'XSMALL', 'SMALL', 'SMALL', 'LARGE',\n",
       "       'XSMALL', 'XSMALL', 'XSMALL', 'XSMALL', 'XLARGE', 'LARGE', 'LARGE',\n",
       "       'LARGE', 'MEDIUM', 'MEDIUM', 'MEDIUM', 'SMALL', 'XLARGE', 'MEDIUM',\n",
       "       'MEDIUM', 'XLARGE', 'LARGE', 'MEDIUM', 'SMALL', 'MEDIUM', 'SMALL',\n",
       "       'MEDIUM', 'XSMALL', 'SMALL', 'XSMALL', 'XSMALL', 'SMALL', 'XLARGE',\n",
       "       'MEDIUM', 'XLARGE', 'MEDIUM', 'XLARGE', 'MEDIUM', 'LARGE', 'LARGE',\n",
       "       'LARGE', 'MEDIUM', 'MEDIUM', 'MEDIUM', 'MEDIUM', 'SMALL', 'SMALL'],\n",
       "      dtype=object)"
      ]
     },
     "execution_count": 18,
     "metadata": {},
     "output_type": "execute_result"
    }
   ],
   "source": [
    "Y"
   ]
  },
  {
   "cell_type": "code",
   "execution_count": 19,
   "metadata": {},
   "outputs": [],
   "source": [
    "data.to_csv(\"SUBGROUP(2017 and 2018).csv\")"
   ]
  }
 ],
 "metadata": {
  "kernelspec": {
   "display_name": "Python 3",
   "language": "python",
   "name": "python3"
  },
  "language_info": {
   "codemirror_mode": {
    "name": "ipython",
    "version": 3
   },
   "file_extension": ".py",
   "mimetype": "text/x-python",
   "name": "python",
   "nbconvert_exporter": "python",
   "pygments_lexer": "ipython3",
   "version": "3.6.5"
  }
 },
 "nbformat": 4,
 "nbformat_minor": 2
}
